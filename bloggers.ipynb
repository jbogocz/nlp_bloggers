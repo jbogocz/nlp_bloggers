{
 "metadata": {
  "language_info": {
   "codemirror_mode": {
    "name": "ipython",
    "version": 3
   },
   "file_extension": ".py",
   "mimetype": "text/x-python",
   "name": "python",
   "nbconvert_exporter": "python",
   "pygments_lexer": "ipython3",
   "version": "3.7.8-final"
  },
  "orig_nbformat": 2,
  "kernelspec": {
   "name": "python3",
   "display_name": "Python 3.7.8 64-bit ('py3.7': conda)",
   "metadata": {
    "interpreter": {
     "hash": "c8fc6583b25f116f3ddd505c03c2e6368adb9989cbf313d15dffb0757a80eacc"
    }
   }
  }
 },
 "nbformat": 4,
 "nbformat_minor": 2,
 "cells": [
  {
   "cell_type": "code",
   "execution_count": 1,
   "metadata": {},
   "outputs": [],
   "source": [
    "# Operating system\n",
    "import os\n",
    "# Regular expression\n",
    "import re\n",
    "# Dataframe\n",
    "import pandas as pd\n",
    "# Natural language\n",
    "import nltk\n",
    "from nltk.corpus import stopwords\n",
    "# Custom transformers\n",
    "from sklearn.base import BaseEstimator, TransformerMixin\n",
    "# Cross-validation\n",
    "from sklearn.model_selection import train_test_split, GridSearchCV\n",
    "# Preprocessing\n",
    "from sklearn.preprocessing import StandardScaler, MultiLabelBinarizer\n",
    "from sklearn.decomposition import TruncatedSVD\n",
    "# Pipeline\n",
    "from sklearn.pipeline import Pipeline\n",
    "# Feature selection\n",
    "from sklearn.feature_extraction.text import TfidfVectorizer\n",
    "# Multilabel\n",
    "from sklearn.multiclass import OneVsRestClassifier\n",
    "# Models\n",
    "from sklearn.linear_model import LogisticRegression\n",
    "from sklearn.ensemble import RandomForestClassifier\n",
    "from sklearn.svm import SVC\n",
    "import xgboost as xgb\n",
    "# Metrics\n",
    "from sklearn.metrics import (make_scorer, average_precision_score, f1_score,\n",
    "                             accuracy_score, recall_score)"
   ]
  },
  {
   "cell_type": "code",
   "execution_count": 2,
   "metadata": {},
   "outputs": [
    {
     "output_type": "stream",
     "name": "stdout",
     "text": [
      "showing info https://raw.githubusercontent.com/nltk/nltk_data/gh-pages/index.xml\n",
      "[nltk_data] Downloading package punkt to\n",
      "[nltk_data]     C:\\Users\\Jacek\\AppData\\Roaming\\nltk_data...\n",
      "[nltk_data]   Package punkt is already up-to-date!\n"
     ]
    },
    {
     "output_type": "execute_result",
     "data": {
      "text/plain": [
       "True"
      ]
     },
     "metadata": {},
     "execution_count": 2
    }
   ],
   "source": [
    "# Install nltk data\n",
    "nltk.download()\n",
    "# Punkt tokenizer models\n",
    "nltk.download('punkt')"
   ]
  },
  {
   "cell_type": "code",
   "execution_count": 3,
   "metadata": {},
   "outputs": [],
   "source": [
    "# Seed\n",
    "seed = 42"
   ]
  },
  {
   "source": [
    "# Import Data"
   ],
   "cell_type": "markdown",
   "metadata": {}
  },
  {
   "cell_type": "code",
   "execution_count": 4,
   "metadata": {},
   "outputs": [
    {
     "output_type": "stream",
     "name": "stdout",
     "text": [
      "No of rows: 681284\nNo of columns: 7\n"
     ]
    },
    {
     "output_type": "execute_result",
     "data": {
      "text/plain": [
       "        id gender  age              topic      sign          date  \\\n",
       "0  2059027   male   15            Student       Leo   14,May,2004   \n",
       "1  2059027   male   15            Student       Leo   13,May,2004   \n",
       "2  2059027   male   15            Student       Leo   12,May,2004   \n",
       "3  2059027   male   15            Student       Leo   12,May,2004   \n",
       "4  3581210   male   33  InvestmentBanking  Aquarius  11,June,2004   \n",
       "\n",
       "                                                text  \n",
       "0             Info has been found (+/- 100 pages,...  \n",
       "1             These are the team members:   Drewe...  \n",
       "2             In het kader van kernfusie op aarde...  \n",
       "3                   testing!!!  testing!!!            \n",
       "4               Thanks to Yahoo!'s Toolbar I can ...  "
      ],
      "text/html": "<div>\n<style scoped>\n    .dataframe tbody tr th:only-of-type {\n        vertical-align: middle;\n    }\n\n    .dataframe tbody tr th {\n        vertical-align: top;\n    }\n\n    .dataframe thead th {\n        text-align: right;\n    }\n</style>\n<table border=\"1\" class=\"dataframe\">\n  <thead>\n    <tr style=\"text-align: right;\">\n      <th></th>\n      <th>id</th>\n      <th>gender</th>\n      <th>age</th>\n      <th>topic</th>\n      <th>sign</th>\n      <th>date</th>\n      <th>text</th>\n    </tr>\n  </thead>\n  <tbody>\n    <tr>\n      <th>0</th>\n      <td>2059027</td>\n      <td>male</td>\n      <td>15</td>\n      <td>Student</td>\n      <td>Leo</td>\n      <td>14,May,2004</td>\n      <td>Info has been found (+/- 100 pages,...</td>\n    </tr>\n    <tr>\n      <th>1</th>\n      <td>2059027</td>\n      <td>male</td>\n      <td>15</td>\n      <td>Student</td>\n      <td>Leo</td>\n      <td>13,May,2004</td>\n      <td>These are the team members:   Drewe...</td>\n    </tr>\n    <tr>\n      <th>2</th>\n      <td>2059027</td>\n      <td>male</td>\n      <td>15</td>\n      <td>Student</td>\n      <td>Leo</td>\n      <td>12,May,2004</td>\n      <td>In het kader van kernfusie op aarde...</td>\n    </tr>\n    <tr>\n      <th>3</th>\n      <td>2059027</td>\n      <td>male</td>\n      <td>15</td>\n      <td>Student</td>\n      <td>Leo</td>\n      <td>12,May,2004</td>\n      <td>testing!!!  testing!!!</td>\n    </tr>\n    <tr>\n      <th>4</th>\n      <td>3581210</td>\n      <td>male</td>\n      <td>33</td>\n      <td>InvestmentBanking</td>\n      <td>Aquarius</td>\n      <td>11,June,2004</td>\n      <td>Thanks to Yahoo!'s Toolbar I can ...</td>\n    </tr>\n  </tbody>\n</table>\n</div>"
     },
     "metadata": {},
     "execution_count": 4
    }
   ],
   "source": [
    "# Getting the Data\n",
    "path = os.path.join('./data', 'blogtext.csv.zip')\n",
    "df = pd.read_csv(path, compression='zip')\n",
    "# Print No of rows & columns\n",
    "print(f'No of rows: {df.shape[0]}\\nNo of columns: {df.shape[1]}')\n",
    "# Show first 5 rows\n",
    "df.head()"
   ]
  },
  {
   "source": [
    "## Get General Information about Data"
   ],
   "cell_type": "markdown",
   "metadata": {}
  },
  {
   "cell_type": "code",
   "execution_count": 5,
   "metadata": {},
   "outputs": [
    {
     "output_type": "stream",
     "name": "stdout",
     "text": [
      "<class 'pandas.core.frame.DataFrame'>\n",
      "RangeIndex: 681284 entries, 0 to 681283\n",
      "Data columns (total 7 columns):\n",
      " #   Column  Non-Null Count   Dtype \n",
      "---  ------  --------------   ----- \n",
      " 0   id      681284 non-null  int64 \n",
      " 1   gender  681284 non-null  object\n",
      " 2   age     681284 non-null  int64 \n",
      " 3   topic   681284 non-null  object\n",
      " 4   sign    681284 non-null  object\n",
      " 5   date    681284 non-null  object\n",
      " 6   text    681284 non-null  object\n",
      "dtypes: int64(2), object(5)\n",
      "memory usage: 36.4+ MB\n",
      "Missing cells: 0\n"
     ]
    }
   ],
   "source": [
    "# Check data\n",
    "df.info()\n",
    "# Check the missing data\n",
    "print(f'Missing cells: {df.isnull().sum().sum()}')\n",
    "# No missing data"
   ]
  },
  {
   "cell_type": "code",
   "execution_count": 6,
   "metadata": {},
   "outputs": [
    {
     "output_type": "execute_result",
     "data": {
      "text/plain": [
       "                 id            age\n",
       "count  6.812840e+05  681284.000000\n",
       "mean   2.397802e+06      23.932326\n",
       "std    1.247723e+06       7.786009\n",
       "min    5.114000e+03      13.000000\n",
       "25%    1.239610e+06      17.000000\n",
       "50%    2.607577e+06      24.000000\n",
       "75%    3.525660e+06      26.000000\n",
       "max    4.337650e+06      48.000000"
      ],
      "text/html": "<div>\n<style scoped>\n    .dataframe tbody tr th:only-of-type {\n        vertical-align: middle;\n    }\n\n    .dataframe tbody tr th {\n        vertical-align: top;\n    }\n\n    .dataframe thead th {\n        text-align: right;\n    }\n</style>\n<table border=\"1\" class=\"dataframe\">\n  <thead>\n    <tr style=\"text-align: right;\">\n      <th></th>\n      <th>id</th>\n      <th>age</th>\n    </tr>\n  </thead>\n  <tbody>\n    <tr>\n      <th>count</th>\n      <td>6.812840e+05</td>\n      <td>681284.000000</td>\n    </tr>\n    <tr>\n      <th>mean</th>\n      <td>2.397802e+06</td>\n      <td>23.932326</td>\n    </tr>\n    <tr>\n      <th>std</th>\n      <td>1.247723e+06</td>\n      <td>7.786009</td>\n    </tr>\n    <tr>\n      <th>min</th>\n      <td>5.114000e+03</td>\n      <td>13.000000</td>\n    </tr>\n    <tr>\n      <th>25%</th>\n      <td>1.239610e+06</td>\n      <td>17.000000</td>\n    </tr>\n    <tr>\n      <th>50%</th>\n      <td>2.607577e+06</td>\n      <td>24.000000</td>\n    </tr>\n    <tr>\n      <th>75%</th>\n      <td>3.525660e+06</td>\n      <td>26.000000</td>\n    </tr>\n    <tr>\n      <th>max</th>\n      <td>4.337650e+06</td>\n      <td>48.000000</td>\n    </tr>\n  </tbody>\n</table>\n</div>"
     },
     "metadata": {},
     "execution_count": 6
    }
   ],
   "source": [
    "# Let's describe & inspect dataset\n",
    "df.describe() "
   ]
  },
  {
   "cell_type": "code",
   "execution_count": 7,
   "metadata": {},
   "outputs": [
    {
     "output_type": "execute_result",
     "data": {
      "text/plain": [
       "Index(['id', 'gender', 'age', 'topic', 'sign', 'date', 'text'], dtype='object')"
      ]
     },
     "metadata": {},
     "execution_count": 7
    }
   ],
   "source": [
    "# Let`s inspect the columns\n",
    "df.columns "
   ]
  },
  {
   "source": [
    "## Remove unnecessary features"
   ],
   "cell_type": "markdown",
   "metadata": {}
  },
  {
   "cell_type": "code",
   "execution_count": 8,
   "metadata": {},
   "outputs": [
    {
     "output_type": "execute_result",
     "data": {
      "text/plain": [
       "  gender  age              topic      sign  \\\n",
       "0   male   15            Student       Leo   \n",
       "1   male   15            Student       Leo   \n",
       "2   male   15            Student       Leo   \n",
       "3   male   15            Student       Leo   \n",
       "4   male   33  InvestmentBanking  Aquarius   \n",
       "\n",
       "                                                text  \n",
       "0             Info has been found (+/- 100 pages,...  \n",
       "1             These are the team members:   Drewe...  \n",
       "2             In het kader van kernfusie op aarde...  \n",
       "3                   testing!!!  testing!!!            \n",
       "4               Thanks to Yahoo!'s Toolbar I can ...  "
      ],
      "text/html": "<div>\n<style scoped>\n    .dataframe tbody tr th:only-of-type {\n        vertical-align: middle;\n    }\n\n    .dataframe tbody tr th {\n        vertical-align: top;\n    }\n\n    .dataframe thead th {\n        text-align: right;\n    }\n</style>\n<table border=\"1\" class=\"dataframe\">\n  <thead>\n    <tr style=\"text-align: right;\">\n      <th></th>\n      <th>gender</th>\n      <th>age</th>\n      <th>topic</th>\n      <th>sign</th>\n      <th>text</th>\n    </tr>\n  </thead>\n  <tbody>\n    <tr>\n      <th>0</th>\n      <td>male</td>\n      <td>15</td>\n      <td>Student</td>\n      <td>Leo</td>\n      <td>Info has been found (+/- 100 pages,...</td>\n    </tr>\n    <tr>\n      <th>1</th>\n      <td>male</td>\n      <td>15</td>\n      <td>Student</td>\n      <td>Leo</td>\n      <td>These are the team members:   Drewe...</td>\n    </tr>\n    <tr>\n      <th>2</th>\n      <td>male</td>\n      <td>15</td>\n      <td>Student</td>\n      <td>Leo</td>\n      <td>In het kader van kernfusie op aarde...</td>\n    </tr>\n    <tr>\n      <th>3</th>\n      <td>male</td>\n      <td>15</td>\n      <td>Student</td>\n      <td>Leo</td>\n      <td>testing!!!  testing!!!</td>\n    </tr>\n    <tr>\n      <th>4</th>\n      <td>male</td>\n      <td>33</td>\n      <td>InvestmentBanking</td>\n      <td>Aquarius</td>\n      <td>Thanks to Yahoo!'s Toolbar I can ...</td>\n    </tr>\n  </tbody>\n</table>\n</div>"
     },
     "metadata": {},
     "execution_count": 8
    }
   ],
   "source": [
    "# Remove unnecessary features\n",
    "df.drop(['id','date'], axis=1, inplace=True)\n",
    "# Show first 5 rows\n",
    "df.head()"
   ]
  },
  {
   "source": [
    "## Subset Data to Speed-up Training"
   ],
   "cell_type": "markdown",
   "metadata": {}
  },
  {
   "cell_type": "code",
   "execution_count": 9,
   "metadata": {},
   "outputs": [],
   "source": [
    "# Subset data\n",
    "df = df.iloc[:100,:]"
   ]
  },
  {
   "source": [
    "# Data Preprocessing"
   ],
   "cell_type": "markdown",
   "metadata": {}
  },
  {
   "source": [
    "## Alphabet Chars"
   ],
   "cell_type": "markdown",
   "metadata": {}
  },
  {
   "cell_type": "code",
   "execution_count": 10,
   "metadata": {},
   "outputs": [],
   "source": [
    "class RemoveNonalpha(BaseEstimator, TransformerMixin):\n",
    "    \"\"\"Remove all non-alphabet characters from text\n",
    "    Attributes:\n",
    "        X (pd.Series): Column with text\n",
    "    Methods:\n",
    "        fit(X): Pass\n",
    "        transform (X): Remove all non-alphabet chars from X\n",
    "    \"\"\"\n",
    "    def fit(self, X: pd.Series, y=None):\n",
    "        return self\n",
    "    def transform(self, X: pd.Series):\n",
    "        pattern = '[^a-z]+'\n",
    "        # Remove all non-alphabet chars from string\n",
    "        X = X.apply(lambda x: re.sub(pattern, ' ', x.lower().strip()))\n",
    "        return X"
   ]
  },
  {
   "source": [
    "## Stopwords"
   ],
   "cell_type": "markdown",
   "metadata": {}
  },
  {
   "cell_type": "code",
   "execution_count": 11,
   "metadata": {},
   "outputs": [],
   "source": [
    "class StopWords(BaseEstimator, TransformerMixin):\n",
    "    \"\"\"Remove all english stop words from text\n",
    "    Attributes:\n",
    "        X (pd.Series): Column with text\n",
    "    Methods:\n",
    "        fit(X): Pass\n",
    "        transform (X): Remove stop words from X\n",
    "    \"\"\"\n",
    "    def fit(self, X: pd.Series, y=None):\n",
    "        return self\n",
    "    def transform(self, X: pd.Series):\n",
    "        # Remove all stop words, punctuation\n",
    "        stop_words = set(stopwords.words('english'))\n",
    "        X = X.apply(lambda x: ' '.join(\n",
    "            [words for words in x.split() if words not in stop_words]\n",
    "            ))\n",
    "        return X"
   ]
  },
  {
   "source": [
    "## Lemmatization/Stemming"
   ],
   "cell_type": "markdown",
   "metadata": {}
  },
  {
   "cell_type": "code",
   "execution_count": 12,
   "metadata": {},
   "outputs": [],
   "source": [
    "class Stemming(BaseEstimator, TransformerMixin):\n",
    "    \"\"\"Reduce inflection in words to their root forms\n",
    "    Attributes:\n",
    "        X (pd.Series): Column with text\n",
    "    Methods:\n",
    "        fit(X): Pass\n",
    "        transform (X): Convert all words from X to the root form \n",
    "    \"\"\"\n",
    "    def fit(self, X: pd.Series, y=None):\n",
    "        return self\n",
    "    def transform(self, X: pd.Series):\n",
    "        # Lemmatization/Stemming\n",
    "        porter_stemmer = nltk.PorterStemmer()\n",
    "        X = X.apply(lambda x: ' '.join(\n",
    "            [porter_stemmer.stem(words) for words in x.split()]\n",
    "            ))\n",
    "        return X"
   ]
  },
  {
   "source": [
    "## Prepare X & Y"
   ],
   "cell_type": "markdown",
   "metadata": {}
  },
  {
   "cell_type": "code",
   "execution_count": 13,
   "metadata": {},
   "outputs": [],
   "source": [
    "# Prepare X (text) & y (labels) data\n",
    "X = df['text']\n",
    "y = df.apply(lambda x: [x['gender'], str(x['age']), x['sign']], axis=1)"
   ]
  },
  {
   "source": [
    "## Binarize Multilabels"
   ],
   "cell_type": "markdown",
   "metadata": {}
  },
  {
   "cell_type": "code",
   "execution_count": 14,
   "metadata": {},
   "outputs": [
    {
     "output_type": "stream",
     "name": "stdout",
     "text": [
      "['14' '15' '17' '25' '33' 'Aquarius' 'Aries' 'Capricorn' 'Gemini' 'Leo'\n 'female' 'male']\n"
     ]
    }
   ],
   "source": [
    "# Prepare/binarize multilabel y data\n",
    "binarizer = MultiLabelBinarizer()\n",
    "y = binarizer.fit_transform(y)\n",
    "\n",
    "# Print multilabel classes\n",
    "print(binarizer.classes_)"
   ]
  },
  {
   "source": [
    "## Train & Test Split"
   ],
   "cell_type": "markdown",
   "metadata": {}
  },
  {
   "cell_type": "code",
   "execution_count": 15,
   "metadata": {},
   "outputs": [
    {
     "output_type": "stream",
     "name": "stdout",
     "text": [
      "Train: 80, Test: 20\n"
     ]
    }
   ],
   "source": [
    "# Train test split\n",
    "X_train, X_test, y_train, y_test = train_test_split(\n",
    "                                        X, y, \n",
    "                                        test_size=.2, \n",
    "                                        random_state=seed, \n",
    "                                    )\n",
    "print(f'Train: {len(X_train)}, Test: {len(X_test)}')"
   ]
  },
  {
   "source": [
    "# Classification Model"
   ],
   "cell_type": "markdown",
   "metadata": {}
  },
  {
   "source": [
    "## Scores"
   ],
   "cell_type": "markdown",
   "metadata": {}
  },
  {
   "cell_type": "code",
   "execution_count": 16,
   "metadata": {},
   "outputs": [],
   "source": [
    "# Create scoring for models\n",
    "# Accuracy\n",
    "accuracy_sc = make_scorer(accuracy_score, greater_is_better=True)\n",
    "# F1\n",
    "f1_sc = make_scorer(f1_score, average='weighted', greater_is_better=True)\n",
    "\n",
    "# All scores together\n",
    "scoring={\n",
    "    \"acc\": accuracy_sc,\n",
    "    \"f1\": f1_sc\n",
    "}"
   ]
  },
  {
   "source": [
    "## Pipeline"
   ],
   "cell_type": "markdown",
   "metadata": {}
  },
  {
   "cell_type": "code",
   "execution_count": 17,
   "metadata": {},
   "outputs": [],
   "source": [
    "# Create pipeline\n",
    "pipeline = Pipeline([\n",
    "    ('remove', RemoveNonalpha()),\n",
    "    ('stopwords', StopWords()),\n",
    "    ('stem', Stemming()),\n",
    "    ('tfidf', TfidfVectorizer(ngram_range=(1,3))),\n",
    "    ('scaler', 'passthrough'),\n",
    "    ('decomposer', 'passthrough'),\n",
    "    ('classifier', 'passthrough')\n",
    "])"
   ]
  },
  {
   "source": [
    "## Model Hyperparameters"
   ],
   "cell_type": "markdown",
   "metadata": {}
  },
  {
   "cell_type": "code",
   "execution_count": 18,
   "metadata": {},
   "outputs": [],
   "source": [
    "# Grid parameters\n",
    "param_grid = {\n",
    "    'scaler': ['passthrough', StandardScaler()\n",
    "    ],\n",
    "    'decomposer': ['passthrough', TruncatedSVD()\n",
    "    ],\n",
    "    'classifier': [OneVsRestClassifier(LogisticRegression()), \n",
    "                 OneVsRestClassifier(RandomForestClassifier()), \n",
    "                 OneVsRestClassifier(SVC()),\n",
    "                 OneVsRestClassifier(xgb.XGBClassifier())\n",
    "                ]\n",
    "}"
   ]
  },
  {
   "source": [
    "## Grid Search CV"
   ],
   "cell_type": "markdown",
   "metadata": {}
  },
  {
   "cell_type": "code",
   "execution_count": 19,
   "metadata": {},
   "outputs": [],
   "source": [
    "# GridSearchCV\n",
    "search = GridSearchCV(\n",
    "            estimator=pipeline, \n",
    "            param_grid=param_grid, \n",
    "            scoring=scoring,\n",
    "            refit=\"f1\",\n",
    "            n_jobs=1,\n",
    "            cv=5)"
   ]
  },
  {
   "source": [
    "## Fit Model"
   ],
   "cell_type": "markdown",
   "metadata": {}
  },
  {
   "cell_type": "code",
   "execution_count": 20,
   "metadata": {},
   "outputs": [],
   "source": [
    "# Fit model\n",
    "model_fit = search.fit(X_train, y_train)"
   ]
  },
  {
   "source": [
    "## Best Model"
   ],
   "cell_type": "markdown",
   "metadata": {}
  },
  {
   "cell_type": "code",
   "execution_count": 21,
   "metadata": {},
   "outputs": [
    {
     "output_type": "stream",
     "name": "stdout",
     "text": [
      "Best model parameters:\n{'classifier': OneVsRestClassifier(estimator=XGBClassifier(base_score=None, booster=None,\n                                            colsample_bylevel=None,\n                                            colsample_bynode=None,\n                                            colsample_bytree=None, gamma=None,\n                                            gpu_id=None, importance_type='gain',\n                                            interaction_constraints=None,\n                                            learning_rate=None,\n                                            max_delta_step=None, max_depth=None,\n                                            min_child_weight=None, missing=nan,\n                                            monotone_constraints=None,\n                                            n_estimators=100, n_jobs=None,\n                                            num_parallel_tree=None,\n                                            random_state=None, reg_alpha=None,\n                                            reg_lambda=None,\n                                            scale_pos_weight=None,\n                                            subsample=None, tree_method=None,\n                                            validate_parameters=None,\n                                            verbosity=None)), 'decomposer': 'passthrough', 'scaler': 'passthrough'}\n"
     ]
    }
   ],
   "source": [
    "# Print best parameters\n",
    "print(f'Best model parameters:\\n{model_fit.best_params_}')"
   ]
  },
  {
   "source": [
    "## Predict Labels"
   ],
   "cell_type": "markdown",
   "metadata": {}
  },
  {
   "cell_type": "code",
   "execution_count": 22,
   "metadata": {},
   "outputs": [
    {
     "output_type": "execute_result",
     "data": {
      "text/plain": [
       "array([[0, 0, 0, 0, 0, 0, 0, 0, 0, 0, 1, 0],\n",
       "       [0, 0, 0, 0, 1, 1, 0, 0, 0, 0, 0, 1],\n",
       "       [0, 0, 0, 0, 1, 1, 0, 0, 0, 0, 0, 1],\n",
       "       [0, 0, 0, 0, 1, 1, 0, 0, 0, 0, 0, 1],\n",
       "       [0, 0, 0, 0, 1, 1, 0, 0, 0, 0, 0, 1],\n",
       "       [0, 0, 0, 0, 1, 1, 0, 0, 0, 0, 0, 1],\n",
       "       [1, 0, 0, 0, 0, 0, 1, 0, 0, 0, 0, 1],\n",
       "       [0, 0, 0, 0, 0, 0, 0, 0, 0, 0, 1, 0],\n",
       "       [0, 0, 0, 0, 1, 1, 0, 0, 0, 0, 0, 1],\n",
       "       [0, 0, 0, 0, 0, 0, 0, 0, 0, 0, 1, 0],\n",
       "       [0, 0, 0, 0, 1, 1, 0, 0, 0, 0, 0, 1],\n",
       "       [0, 0, 0, 0, 1, 1, 0, 0, 0, 0, 0, 1],\n",
       "       [0, 0, 0, 0, 1, 1, 0, 0, 0, 0, 0, 1],\n",
       "       [0, 0, 0, 0, 1, 1, 0, 0, 0, 0, 0, 1],\n",
       "       [1, 0, 0, 0, 0, 0, 1, 0, 0, 0, 1, 0],\n",
       "       [0, 0, 0, 0, 1, 1, 0, 0, 0, 0, 0, 1],\n",
       "       [0, 0, 0, 0, 0, 0, 0, 0, 0, 0, 1, 0],\n",
       "       [1, 0, 0, 0, 0, 0, 1, 0, 0, 0, 1, 0],\n",
       "       [0, 0, 0, 0, 1, 1, 0, 0, 0, 0, 0, 1],\n",
       "       [0, 0, 0, 0, 0, 0, 0, 0, 0, 0, 0, 1]])"
      ]
     },
     "metadata": {},
     "execution_count": 22
    }
   ],
   "source": [
    "# Pedict labels\n",
    "y_pred = model_fit.predict(X_test)\n",
    "y_pred"
   ]
  },
  {
   "cell_type": "code",
   "execution_count": 23,
   "metadata": {},
   "outputs": [
    {
     "output_type": "execute_result",
     "data": {
      "text/plain": [
       "[('female',),\n",
       " ('33', 'Aquarius', 'male'),\n",
       " ('33', 'Aquarius', 'male'),\n",
       " ('33', 'Aquarius', 'male'),\n",
       " ('33', 'Aquarius', 'male')]"
      ]
     },
     "metadata": {},
     "execution_count": 23
    }
   ],
   "source": [
    "# Invert binarized labels to the readable form\n",
    "binarizer.inverse_transform(y_pred)[:5]"
   ]
  },
  {
   "source": [
    "## Evaluate Model"
   ],
   "cell_type": "markdown",
   "metadata": {}
  },
  {
   "cell_type": "code",
   "execution_count": 25,
   "metadata": {},
   "outputs": [
    {
     "output_type": "stream",
     "name": "stdout",
     "text": [
      "Accuracy score:  0.7\nF1 score:  0.8545454545454546\nAverage precision score:  0.7905\nAverage recall score:  0.7833333333333333\n"
     ]
    }
   ],
   "source": [
    "# Print scores\n",
    "print('Accuracy score: ', accuracy_score(y_test, y_pred))\n",
    "print('F1 score: ', f1_score(y_test, y_pred, average='micro'))\n",
    "print('Average precision score: ', average_precision_score(y_test, y_pred, average='micro'))\n",
    "print('Average recall score: ', recall_score(y_test, y_pred, average='micro'))"
   ]
  }
 ]
}