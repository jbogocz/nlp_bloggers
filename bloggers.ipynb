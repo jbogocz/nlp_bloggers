{
 "metadata": {
  "language_info": {
   "codemirror_mode": {
    "name": "ipython",
    "version": 3
   },
   "file_extension": ".py",
   "mimetype": "text/x-python",
   "name": "python",
   "nbconvert_exporter": "python",
   "pygments_lexer": "ipython3",
   "version": "3.7.8-final"
  },
  "orig_nbformat": 2,
  "kernelspec": {
   "name": "python3",
   "display_name": "Python 3.7.8 64-bit ('py3.7': conda)",
   "metadata": {
    "interpreter": {
     "hash": "c8fc6583b25f116f3ddd505c03c2e6368adb9989cbf313d15dffb0757a80eacc"
    }
   }
  }
 },
 "nbformat": 4,
 "nbformat_minor": 2,
 "cells": [
  {
   "cell_type": "code",
   "execution_count": 1,
   "metadata": {},
   "outputs": [],
   "source": [
    "# Operating system\n",
    "import os\n",
    "# Regular expression\n",
    "import re\n",
    "# Dataframe\n",
    "import pandas as pd\n",
    "# Natural language\n",
    "import nltk\n",
    "from nltk.corpus import stopwords\n",
    "# Custom transformers\n",
    "from sklearn.base import BaseEstimator, TransformerMixin\n",
    "# Cross-validation\n",
    "from sklearn.model_selection import train_test_split, GridSearchCV\n",
    "# Preprocessing\n",
    "from sklearn.preprocessing import StandardScaler, MultiLabelBinarizer\n",
    "from sklearn.decomposition import TruncatedSVD\n",
    "# Pipeline\n",
    "from sklearn.pipeline import Pipeline\n",
    "# Feature selection\n",
    "from sklearn.feature_extraction.text import TfidfVectorizer\n",
    "# Multilabel\n",
    "from sklearn.multiclass import OneVsRestClassifier\n",
    "# Models\n",
    "from sklearn.linear_model import LogisticRegression\n",
    "from sklearn.ensemble import RandomForestClassifier\n",
    "from sklearn.svm import SVC\n",
    "import xgboost as xgb\n",
    "# Metrics\n",
    "from sklearn.metrics import (make_scorer, average_precision_score, f1_score,\n",
    "                             accuracy_score, recall_score)"
   ]
  },
  {
   "cell_type": "code",
   "execution_count": 1,
   "metadata": {},
   "outputs": [],
   "source": []
  },
  {
   "cell_type": "code",
   "execution_count": null,
   "metadata": {},
   "outputs": [],
   "source": []
  }
 ]
}