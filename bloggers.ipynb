{
 "metadata": {
  "language_info": {
   "codemirror_mode": {
    "name": "ipython",
    "version": 3
   },
   "file_extension": ".py",
   "mimetype": "text/x-python",
   "name": "python",
   "nbconvert_exporter": "python",
   "pygments_lexer": "ipython3",
   "version": "3.7.8-final"
  },
  "orig_nbformat": 2,
  "kernelspec": {
   "name": "python3",
   "display_name": "Python 3.7.8 64-bit ('py3.7': conda)",
   "metadata": {
    "interpreter": {
     "hash": "c8fc6583b25f116f3ddd505c03c2e6368adb9989cbf313d15dffb0757a80eacc"
    }
   }
  }
 },
 "nbformat": 4,
 "nbformat_minor": 2,
 "cells": [
  {
   "cell_type": "code",
   "execution_count": 1,
   "metadata": {},
   "outputs": [],
   "source": [
    "# Operating system\n",
    "import os\n",
    "# Regular expression\n",
    "import re\n",
    "# Dataframe\n",
    "import pandas as pd\n",
    "# Natural language\n",
    "import nltk\n",
    "from nltk.corpus import stopwords\n",
    "# Custom transformers\n",
    "from sklearn.base import BaseEstimator, TransformerMixin\n",
    "# Cross-validation\n",
    "from sklearn.model_selection import train_test_split, GridSearchCV\n",
    "# Preprocessing\n",
    "from sklearn.preprocessing import StandardScaler, MultiLabelBinarizer\n",
    "from sklearn.decomposition import TruncatedSVD\n",
    "# Pipeline\n",
    "from sklearn.pipeline import Pipeline\n",
    "# Feature selection\n",
    "from sklearn.feature_extraction.text import TfidfVectorizer\n",
    "# Multilabel\n",
    "from sklearn.multiclass import OneVsRestClassifier\n",
    "# Models\n",
    "from sklearn.linear_model import LogisticRegression\n",
    "from sklearn.ensemble import RandomForestClassifier\n",
    "from sklearn.svm import SVC\n",
    "import xgboost as xgb\n",
    "# Metrics\n",
    "from sklearn.metrics import (make_scorer, average_precision_score, f1_score,\n",
    "                             accuracy_score, recall_score)"
   ]
  },
  {
   "cell_type": "code",
   "execution_count": 2,
   "metadata": {},
   "outputs": [
    {
     "output_type": "stream",
     "name": "stdout",
     "text": [
      "showing info https://raw.githubusercontent.com/nltk/nltk_data/gh-pages/index.xml\n",
      "[nltk_data] Downloading package punkt to\n",
      "[nltk_data]     C:\\Users\\Jacek\\AppData\\Roaming\\nltk_data...\n",
      "[nltk_data]   Package punkt is already up-to-date!\n"
     ]
    },
    {
     "output_type": "execute_result",
     "data": {
      "text/plain": [
       "True"
      ]
     },
     "metadata": {},
     "execution_count": 2
    }
   ],
   "source": [
    "# Install nltk data\n",
    "nltk.download()\n",
    "# Punkt tokenizer models\n",
    "nltk.download('punkt')"
   ]
  },
  {
   "cell_type": "code",
   "execution_count": 3,
   "metadata": {},
   "outputs": [],
   "source": [
    "# Seed\n",
    "seed = 42"
   ]
  },
  {
   "cell_type": "code",
   "execution_count": 5,
   "metadata": {},
   "outputs": [
    {
     "output_type": "stream",
     "name": "stdout",
     "text": [
      "No of rows: 681284\nNo of columns: 7\n"
     ]
    },
    {
     "output_type": "execute_result",
     "data": {
      "text/plain": [
       "        id gender  age              topic      sign          date  \\\n",
       "0  2059027   male   15            Student       Leo   14,May,2004   \n",
       "1  2059027   male   15            Student       Leo   13,May,2004   \n",
       "2  2059027   male   15            Student       Leo   12,May,2004   \n",
       "3  2059027   male   15            Student       Leo   12,May,2004   \n",
       "4  3581210   male   33  InvestmentBanking  Aquarius  11,June,2004   \n",
       "\n",
       "                                                text  \n",
       "0             Info has been found (+/- 100 pages,...  \n",
       "1             These are the team members:   Drewe...  \n",
       "2             In het kader van kernfusie op aarde...  \n",
       "3                   testing!!!  testing!!!            \n",
       "4               Thanks to Yahoo!'s Toolbar I can ...  "
      ],
      "text/html": "<div>\n<style scoped>\n    .dataframe tbody tr th:only-of-type {\n        vertical-align: middle;\n    }\n\n    .dataframe tbody tr th {\n        vertical-align: top;\n    }\n\n    .dataframe thead th {\n        text-align: right;\n    }\n</style>\n<table border=\"1\" class=\"dataframe\">\n  <thead>\n    <tr style=\"text-align: right;\">\n      <th></th>\n      <th>id</th>\n      <th>gender</th>\n      <th>age</th>\n      <th>topic</th>\n      <th>sign</th>\n      <th>date</th>\n      <th>text</th>\n    </tr>\n  </thead>\n  <tbody>\n    <tr>\n      <th>0</th>\n      <td>2059027</td>\n      <td>male</td>\n      <td>15</td>\n      <td>Student</td>\n      <td>Leo</td>\n      <td>14,May,2004</td>\n      <td>Info has been found (+/- 100 pages,...</td>\n    </tr>\n    <tr>\n      <th>1</th>\n      <td>2059027</td>\n      <td>male</td>\n      <td>15</td>\n      <td>Student</td>\n      <td>Leo</td>\n      <td>13,May,2004</td>\n      <td>These are the team members:   Drewe...</td>\n    </tr>\n    <tr>\n      <th>2</th>\n      <td>2059027</td>\n      <td>male</td>\n      <td>15</td>\n      <td>Student</td>\n      <td>Leo</td>\n      <td>12,May,2004</td>\n      <td>In het kader van kernfusie op aarde...</td>\n    </tr>\n    <tr>\n      <th>3</th>\n      <td>2059027</td>\n      <td>male</td>\n      <td>15</td>\n      <td>Student</td>\n      <td>Leo</td>\n      <td>12,May,2004</td>\n      <td>testing!!!  testing!!!</td>\n    </tr>\n    <tr>\n      <th>4</th>\n      <td>3581210</td>\n      <td>male</td>\n      <td>33</td>\n      <td>InvestmentBanking</td>\n      <td>Aquarius</td>\n      <td>11,June,2004</td>\n      <td>Thanks to Yahoo!'s Toolbar I can ...</td>\n    </tr>\n  </tbody>\n</table>\n</div>"
     },
     "metadata": {},
     "execution_count": 5
    }
   ],
   "source": [
    "# Getting the Data\n",
    "path = os.path.join('./data', 'blogtext.csv.zip')\n",
    "df = pd.read_csv(path, compression='zip')\n",
    "# Print No of rows & columns\n",
    "print(f'No of rows: {df.shape[0]}\\nNo of columns: {df.shape[1]}')\n",
    "# Show first 5 rows\n",
    "df.head()"
   ]
  },
  {
   "cell_type": "code",
   "execution_count": 6,
   "metadata": {},
   "outputs": [
    {
     "output_type": "stream",
     "name": "stdout",
     "text": [
      "<class 'pandas.core.frame.DataFrame'>\n",
      "RangeIndex: 681284 entries, 0 to 681283\n",
      "Data columns (total 7 columns):\n",
      " #   Column  Non-Null Count   Dtype \n",
      "---  ------  --------------   ----- \n",
      " 0   id      681284 non-null  int64 \n",
      " 1   gender  681284 non-null  object\n",
      " 2   age     681284 non-null  int64 \n",
      " 3   topic   681284 non-null  object\n",
      " 4   sign    681284 non-null  object\n",
      " 5   date    681284 non-null  object\n",
      " 6   text    681284 non-null  object\n",
      "dtypes: int64(2), object(5)\n",
      "memory usage: 36.4+ MB\n",
      "Missing cells: 0\n"
     ]
    }
   ],
   "source": [
    "# Check data\n",
    "df.info()\n",
    "# Check the missing data\n",
    "print(f'Missing cells: {df.isnull().sum().sum()}')\n",
    "# No missing data"
   ]
  },
  {
   "cell_type": "code",
   "execution_count": 8,
   "metadata": {},
   "outputs": [
    {
     "output_type": "execute_result",
     "data": {
      "text/plain": [
       "                 id            age\n",
       "count  6.812840e+05  681284.000000\n",
       "mean   2.397802e+06      23.932326\n",
       "std    1.247723e+06       7.786009\n",
       "min    5.114000e+03      13.000000\n",
       "25%    1.239610e+06      17.000000\n",
       "50%    2.607577e+06      24.000000\n",
       "75%    3.525660e+06      26.000000\n",
       "max    4.337650e+06      48.000000"
      ],
      "text/html": "<div>\n<style scoped>\n    .dataframe tbody tr th:only-of-type {\n        vertical-align: middle;\n    }\n\n    .dataframe tbody tr th {\n        vertical-align: top;\n    }\n\n    .dataframe thead th {\n        text-align: right;\n    }\n</style>\n<table border=\"1\" class=\"dataframe\">\n  <thead>\n    <tr style=\"text-align: right;\">\n      <th></th>\n      <th>id</th>\n      <th>age</th>\n    </tr>\n  </thead>\n  <tbody>\n    <tr>\n      <th>count</th>\n      <td>6.812840e+05</td>\n      <td>681284.000000</td>\n    </tr>\n    <tr>\n      <th>mean</th>\n      <td>2.397802e+06</td>\n      <td>23.932326</td>\n    </tr>\n    <tr>\n      <th>std</th>\n      <td>1.247723e+06</td>\n      <td>7.786009</td>\n    </tr>\n    <tr>\n      <th>min</th>\n      <td>5.114000e+03</td>\n      <td>13.000000</td>\n    </tr>\n    <tr>\n      <th>25%</th>\n      <td>1.239610e+06</td>\n      <td>17.000000</td>\n    </tr>\n    <tr>\n      <th>50%</th>\n      <td>2.607577e+06</td>\n      <td>24.000000</td>\n    </tr>\n    <tr>\n      <th>75%</th>\n      <td>3.525660e+06</td>\n      <td>26.000000</td>\n    </tr>\n    <tr>\n      <th>max</th>\n      <td>4.337650e+06</td>\n      <td>48.000000</td>\n    </tr>\n  </tbody>\n</table>\n</div>"
     },
     "metadata": {},
     "execution_count": 8
    }
   ],
   "source": [
    "# Let's describe & inspect dataset\n",
    "df.describe() "
   ]
  },
  {
   "cell_type": "code",
   "execution_count": 9,
   "metadata": {},
   "outputs": [
    {
     "output_type": "execute_result",
     "data": {
      "text/plain": [
       "Index(['id', 'gender', 'age', 'topic', 'sign', 'date', 'text'], dtype='object')"
      ]
     },
     "metadata": {},
     "execution_count": 9
    }
   ],
   "source": [
    "# Let`s inspect the columns\n",
    "df.columns "
   ]
  },
  {
   "cell_type": "code",
   "execution_count": 10,
   "metadata": {},
   "outputs": [
    {
     "output_type": "execute_result",
     "data": {
      "text/plain": [
       "  gender  age              topic      sign  \\\n",
       "0   male   15            Student       Leo   \n",
       "1   male   15            Student       Leo   \n",
       "2   male   15            Student       Leo   \n",
       "3   male   15            Student       Leo   \n",
       "4   male   33  InvestmentBanking  Aquarius   \n",
       "\n",
       "                                                text  \n",
       "0             Info has been found (+/- 100 pages,...  \n",
       "1             These are the team members:   Drewe...  \n",
       "2             In het kader van kernfusie op aarde...  \n",
       "3                   testing!!!  testing!!!            \n",
       "4               Thanks to Yahoo!'s Toolbar I can ...  "
      ],
      "text/html": "<div>\n<style scoped>\n    .dataframe tbody tr th:only-of-type {\n        vertical-align: middle;\n    }\n\n    .dataframe tbody tr th {\n        vertical-align: top;\n    }\n\n    .dataframe thead th {\n        text-align: right;\n    }\n</style>\n<table border=\"1\" class=\"dataframe\">\n  <thead>\n    <tr style=\"text-align: right;\">\n      <th></th>\n      <th>gender</th>\n      <th>age</th>\n      <th>topic</th>\n      <th>sign</th>\n      <th>text</th>\n    </tr>\n  </thead>\n  <tbody>\n    <tr>\n      <th>0</th>\n      <td>male</td>\n      <td>15</td>\n      <td>Student</td>\n      <td>Leo</td>\n      <td>Info has been found (+/- 100 pages,...</td>\n    </tr>\n    <tr>\n      <th>1</th>\n      <td>male</td>\n      <td>15</td>\n      <td>Student</td>\n      <td>Leo</td>\n      <td>These are the team members:   Drewe...</td>\n    </tr>\n    <tr>\n      <th>2</th>\n      <td>male</td>\n      <td>15</td>\n      <td>Student</td>\n      <td>Leo</td>\n      <td>In het kader van kernfusie op aarde...</td>\n    </tr>\n    <tr>\n      <th>3</th>\n      <td>male</td>\n      <td>15</td>\n      <td>Student</td>\n      <td>Leo</td>\n      <td>testing!!!  testing!!!</td>\n    </tr>\n    <tr>\n      <th>4</th>\n      <td>male</td>\n      <td>33</td>\n      <td>InvestmentBanking</td>\n      <td>Aquarius</td>\n      <td>Thanks to Yahoo!'s Toolbar I can ...</td>\n    </tr>\n  </tbody>\n</table>\n</div>"
     },
     "metadata": {},
     "execution_count": 10
    }
   ],
   "source": [
    "# Remove unnecessary features\n",
    "df.drop(['id','date'], axis=1, inplace=True)\n",
    "# Show first 5 rows\n",
    "df.head()"
   ]
  },
  {
   "cell_type": "code",
   "execution_count": 11,
   "metadata": {},
   "outputs": [],
   "source": [
    "class RemoveNonalpha(BaseEstimator, TransformerMixin):\n",
    "    \"\"\"Remove all non-alphabet characters from text\n",
    "    Attributes:\n",
    "        X (pd.Series): Column with text\n",
    "    Methods:\n",
    "        fit(X): Pass\n",
    "        transform (X): Remove all non-alphabet chars from X\n",
    "    \"\"\"\n",
    "    def fit(self, X: pd.Series, y=None):\n",
    "        return self\n",
    "    def transform(self, X: pd.Series):\n",
    "        pattern = '[^a-z]+'\n",
    "        # Remove all non-alphabet chars from string\n",
    "        X = X.apply(lambda x: re.sub(pattern, ' ', x.lower().strip()))\n",
    "        return X"
   ]
  },
  {
   "cell_type": "code",
   "execution_count": null,
   "metadata": {},
   "outputs": [],
   "source": []
  }
 ]
}